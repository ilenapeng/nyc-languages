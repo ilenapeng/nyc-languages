{
 "cells": [
  {
   "cell_type": "markdown",
   "id": "404001e9",
   "metadata": {},
   "source": [
    "# Population change between 2005 and 2019"
   ]
  },
  {
   "cell_type": "code",
   "execution_count": 1,
   "id": "017fd4a9",
   "metadata": {},
   "outputs": [
    {
     "name": "stderr",
     "output_type": "stream",
     "text": [
      "/Users/ilenapeng/.pyenv/versions/3.9.7/lib/python3.9/site-packages/pandas/compat/__init__.py:124: UserWarning: Could not import the lzma module. Your installed Python is incomplete. Attempting to use lzma compression will result in a RuntimeError.\n",
      "  warnings.warn(msg)\n",
      "/Users/ilenapeng/.pyenv/versions/3.9.7/lib/python3.9/site-packages/fuzzywuzzy/fuzz.py:11: UserWarning: Using slow pure-python SequenceMatcher. Install python-Levenshtein to remove this warning\n",
      "  warnings.warn('Using slow pure-python SequenceMatcher. Install python-Levenshtein to remove this warning')\n"
     ]
    }
   ],
   "source": [
    "import cenpy as cen\n",
    "import pandas as pd\n",
    "\n",
    "from getpass import getpass"
   ]
  },
  {
   "cell_type": "code",
   "execution_count": 2,
   "id": "7cf3eb97",
   "metadata": {},
   "outputs": [
    {
     "name": "stdout",
     "output_type": "stream",
     "text": [
      "Enter your Census API Key: ········\n"
     ]
    }
   ],
   "source": [
    "CENSUS_API_KEY = getpass('Enter your Census API Key: ')"
   ]
  },
  {
   "cell_type": "code",
   "execution_count": 3,
   "id": "d330fbb4",
   "metadata": {},
   "outputs": [],
   "source": [
    "acs = cen.products.ACS()"
   ]
  },
  {
   "cell_type": "code",
   "execution_count": 4,
   "id": "70946420",
   "metadata": {},
   "outputs": [
    {
     "data": {
      "text/html": [
       "<div>\n",
       "<style scoped>\n",
       "    .dataframe tbody tr th:only-of-type {\n",
       "        vertical-align: middle;\n",
       "    }\n",
       "\n",
       "    .dataframe tbody tr th {\n",
       "        vertical-align: top;\n",
       "    }\n",
       "\n",
       "    .dataframe thead th {\n",
       "        text-align: right;\n",
       "    }\n",
       "</style>\n",
       "<table border=\"1\" class=\"dataframe\">\n",
       "  <thead>\n",
       "    <tr style=\"text-align: right;\">\n",
       "      <th></th>\n",
       "      <th>B01001_001E</th>\n",
       "      <th>state</th>\n",
       "      <th>county</th>\n",
       "    </tr>\n",
       "  </thead>\n",
       "  <tbody>\n",
       "    <tr>\n",
       "      <th>0</th>\n",
       "      <td>280570</td>\n",
       "      <td>36</td>\n",
       "      <td>001</td>\n",
       "    </tr>\n",
       "    <tr>\n",
       "      <th>1</th>\n",
       "      <td>1309640</td>\n",
       "      <td>36</td>\n",
       "      <td>005</td>\n",
       "    </tr>\n",
       "    <tr>\n",
       "      <th>2</th>\n",
       "      <td>186680</td>\n",
       "      <td>36</td>\n",
       "      <td>007</td>\n",
       "    </tr>\n",
       "    <tr>\n",
       "      <th>3</th>\n",
       "      <td>79201</td>\n",
       "      <td>36</td>\n",
       "      <td>009</td>\n",
       "    </tr>\n",
       "    <tr>\n",
       "      <th>4</th>\n",
       "      <td>77016</td>\n",
       "      <td>36</td>\n",
       "      <td>011</td>\n",
       "    </tr>\n",
       "  </tbody>\n",
       "</table>\n",
       "</div>"
      ],
      "text/plain": [
       "  B01001_001E state county\n",
       "0      280570    36    001\n",
       "1     1309640    36    005\n",
       "2      186680    36    007\n",
       "3       79201    36    009\n",
       "4       77016    36    011"
      ]
     },
     "execution_count": 4,
     "metadata": {},
     "output_type": "execute_result"
    }
   ],
   "source": [
    "# 2005\n",
    "con = cen.remote.APIConnection('ACSDT1Y2005',apikey=CENSUS_API_KEY)\n",
    "\n",
    "# The columns to analyze\n",
    "columns = ['B01001_001E']\n",
    "\n",
    "g_unit = 'county'\n",
    "g_filter = {'state':'36'}\n",
    "\n",
    "df_05 = con.query(columns, geo_unit=g_unit, geo_filter=g_filter)\n",
    "df_05.head()"
   ]
  },
  {
   "cell_type": "code",
   "execution_count": 5,
   "id": "df247e53",
   "metadata": {},
   "outputs": [
    {
     "data": {
      "text/html": [
       "<div>\n",
       "<style scoped>\n",
       "    .dataframe tbody tr th:only-of-type {\n",
       "        vertical-align: middle;\n",
       "    }\n",
       "\n",
       "    .dataframe tbody tr th {\n",
       "        vertical-align: top;\n",
       "    }\n",
       "\n",
       "    .dataframe thead th {\n",
       "        text-align: right;\n",
       "    }\n",
       "</style>\n",
       "<table border=\"1\" class=\"dataframe\">\n",
       "  <thead>\n",
       "    <tr style=\"text-align: right;\">\n",
       "      <th></th>\n",
       "      <th>B01001_001E</th>\n",
       "      <th>state</th>\n",
       "      <th>county</th>\n",
       "    </tr>\n",
       "  </thead>\n",
       "  <tbody>\n",
       "    <tr>\n",
       "      <th>0</th>\n",
       "      <td>303833</td>\n",
       "      <td>36</td>\n",
       "      <td>001</td>\n",
       "    </tr>\n",
       "    <tr>\n",
       "      <th>1</th>\n",
       "      <td>1386657</td>\n",
       "      <td>36</td>\n",
       "      <td>005</td>\n",
       "    </tr>\n",
       "    <tr>\n",
       "      <th>2</th>\n",
       "      <td>200272</td>\n",
       "      <td>36</td>\n",
       "      <td>007</td>\n",
       "    </tr>\n",
       "    <tr>\n",
       "      <th>3</th>\n",
       "      <td>80229</td>\n",
       "      <td>36</td>\n",
       "      <td>009</td>\n",
       "    </tr>\n",
       "    <tr>\n",
       "      <th>4</th>\n",
       "      <td>79978</td>\n",
       "      <td>36</td>\n",
       "      <td>011</td>\n",
       "    </tr>\n",
       "  </tbody>\n",
       "</table>\n",
       "</div>"
      ],
      "text/plain": [
       "  B01001_001E state county\n",
       "0      303833    36    001\n",
       "1     1386657    36    005\n",
       "2      200272    36    007\n",
       "3       80229    36    009\n",
       "4       79978    36    011"
      ]
     },
     "execution_count": 5,
     "metadata": {},
     "output_type": "execute_result"
    }
   ],
   "source": [
    "# 2010\n",
    "con = cen.remote.APIConnection('ACSDT1Y2010',apikey=CENSUS_API_KEY)\n",
    "\n",
    "# The columns to analyze\n",
    "columns = ['B01001_001E']\n",
    "\n",
    "g_unit = 'county'\n",
    "g_filter = {'state':'36'}\n",
    "\n",
    "df_10 = con.query(columns, geo_unit=g_unit, geo_filter=g_filter)\n",
    "df_10.head()"
   ]
  },
  {
   "cell_type": "code",
   "execution_count": 6,
   "id": "42fcffc7",
   "metadata": {},
   "outputs": [
    {
     "data": {
      "text/html": [
       "<div>\n",
       "<style scoped>\n",
       "    .dataframe tbody tr th:only-of-type {\n",
       "        vertical-align: middle;\n",
       "    }\n",
       "\n",
       "    .dataframe tbody tr th {\n",
       "        vertical-align: top;\n",
       "    }\n",
       "\n",
       "    .dataframe thead th {\n",
       "        text-align: right;\n",
       "    }\n",
       "</style>\n",
       "<table border=\"1\" class=\"dataframe\">\n",
       "  <thead>\n",
       "    <tr style=\"text-align: right;\">\n",
       "      <th></th>\n",
       "      <th>B01001_001E</th>\n",
       "      <th>state</th>\n",
       "      <th>county</th>\n",
       "    </tr>\n",
       "  </thead>\n",
       "  <tbody>\n",
       "    <tr>\n",
       "      <th>0</th>\n",
       "      <td>160266</td>\n",
       "      <td>36</td>\n",
       "      <td>083</td>\n",
       "    </tr>\n",
       "    <tr>\n",
       "      <th>1</th>\n",
       "      <td>2339150</td>\n",
       "      <td>36</td>\n",
       "      <td>081</td>\n",
       "    </tr>\n",
       "    <tr>\n",
       "      <th>2</th>\n",
       "      <td>1644518</td>\n",
       "      <td>36</td>\n",
       "      <td>061</td>\n",
       "    </tr>\n",
       "    <tr>\n",
       "      <th>3</th>\n",
       "      <td>78288</td>\n",
       "      <td>36</td>\n",
       "      <td>011</td>\n",
       "    </tr>\n",
       "    <tr>\n",
       "      <th>4</th>\n",
       "      <td>326037</td>\n",
       "      <td>36</td>\n",
       "      <td>087</td>\n",
       "    </tr>\n",
       "  </tbody>\n",
       "</table>\n",
       "</div>"
      ],
      "text/plain": [
       "  B01001_001E state county\n",
       "0      160266    36    083\n",
       "1     2339150    36    081\n",
       "2     1644518    36    061\n",
       "3       78288    36    011\n",
       "4      326037    36    087"
      ]
     },
     "execution_count": 6,
     "metadata": {},
     "output_type": "execute_result"
    }
   ],
   "source": [
    "# 2015\n",
    "con = cen.remote.APIConnection('ACSDT1Y2015',apikey=CENSUS_API_KEY)\n",
    "\n",
    "# The columns to analyze\n",
    "columns = ['B01001_001E']\n",
    "\n",
    "g_unit = 'county'\n",
    "g_filter = {'state':'36'}\n",
    "\n",
    "df_15 = con.query(columns, geo_unit=g_unit, geo_filter=g_filter)\n",
    "df_15.head()"
   ]
  },
  {
   "cell_type": "code",
   "execution_count": 7,
   "id": "35d6aac2",
   "metadata": {},
   "outputs": [
    {
     "data": {
      "text/html": [
       "<div>\n",
       "<style scoped>\n",
       "    .dataframe tbody tr th:only-of-type {\n",
       "        vertical-align: middle;\n",
       "    }\n",
       "\n",
       "    .dataframe tbody tr th {\n",
       "        vertical-align: top;\n",
       "    }\n",
       "\n",
       "    .dataframe thead th {\n",
       "        text-align: right;\n",
       "    }\n",
       "</style>\n",
       "<table border=\"1\" class=\"dataframe\">\n",
       "  <thead>\n",
       "    <tr style=\"text-align: right;\">\n",
       "      <th></th>\n",
       "      <th>B01001_001E</th>\n",
       "      <th>state</th>\n",
       "      <th>county</th>\n",
       "    </tr>\n",
       "  </thead>\n",
       "  <tbody>\n",
       "    <tr>\n",
       "      <th>0</th>\n",
       "      <td>1418207</td>\n",
       "      <td>36</td>\n",
       "      <td>005</td>\n",
       "    </tr>\n",
       "    <tr>\n",
       "      <th>1</th>\n",
       "      <td>460528</td>\n",
       "      <td>36</td>\n",
       "      <td>067</td>\n",
       "    </tr>\n",
       "    <tr>\n",
       "      <th>2</th>\n",
       "      <td>80485</td>\n",
       "      <td>36</td>\n",
       "      <td>019</td>\n",
       "    </tr>\n",
       "    <tr>\n",
       "      <th>3</th>\n",
       "      <td>98320</td>\n",
       "      <td>36</td>\n",
       "      <td>079</td>\n",
       "    </tr>\n",
       "    <tr>\n",
       "      <th>4</th>\n",
       "      <td>109777</td>\n",
       "      <td>36</td>\n",
       "      <td>069</td>\n",
       "    </tr>\n",
       "  </tbody>\n",
       "</table>\n",
       "</div>"
      ],
      "text/plain": [
       "  B01001_001E state county\n",
       "0     1418207    36    005\n",
       "1      460528    36    067\n",
       "2       80485    36    019\n",
       "3       98320    36    079\n",
       "4      109777    36    069"
      ]
     },
     "execution_count": 7,
     "metadata": {},
     "output_type": "execute_result"
    }
   ],
   "source": [
    "# 2015\n",
    "con = cen.remote.APIConnection('ACSDT1Y2019',apikey=CENSUS_API_KEY)\n",
    "\n",
    "# The columns to analyze\n",
    "columns = ['B01001_001E']\n",
    "\n",
    "g_unit = 'county'\n",
    "g_filter = {'state':'36'}\n",
    "\n",
    "df_19 = con.query(columns, geo_unit=g_unit, geo_filter=g_filter)\n",
    "df_19.head()"
   ]
  },
  {
   "cell_type": "code",
   "execution_count": 9,
   "id": "27cf638b",
   "metadata": {},
   "outputs": [],
   "source": [
    "# add year variable\n",
    "df_05['year'] = '2005'\n",
    "df_10['year'] = '2010'\n",
    "df_15['year'] = '2015'\n",
    "df_19['year'] = '2019'"
   ]
  },
  {
   "cell_type": "code",
   "execution_count": 10,
   "id": "6490b05a",
   "metadata": {},
   "outputs": [
    {
     "data": {
      "text/plain": [
       "array(['2005', '2010', '2015', '2019'], dtype=object)"
      ]
     },
     "execution_count": 10,
     "metadata": {},
     "output_type": "execute_result"
    }
   ],
   "source": [
    "# stack dataframes\n",
    "df_stack = pd.concat([df_05, df_10, df_15, df_19])\n",
    "df_stack.year.unique()"
   ]
  },
  {
   "cell_type": "code",
   "execution_count": 11,
   "id": "de6eb3d1",
   "metadata": {},
   "outputs": [],
   "source": [
    "# rename column\n",
    "df_stack = df_stack.rename(columns={'B01001_001E':'population'})"
   ]
  },
  {
   "cell_type": "code",
   "execution_count": 14,
   "id": "fd4dd6f1",
   "metadata": {},
   "outputs": [],
   "source": [
    "# convert population column from string to numeric\n",
    "df_stack['population'] = df_stack.population.astype('int64')"
   ]
  },
  {
   "cell_type": "code",
   "execution_count": 15,
   "id": "115b122c",
   "metadata": {},
   "outputs": [
    {
     "data": {
      "text/plain": [
       "(20, 4)"
      ]
     },
     "execution_count": 15,
     "metadata": {},
     "output_type": "execute_result"
    }
   ],
   "source": [
    "# filter to just the counties we want\n",
    "# Codes: https://www.census.gov/library/reference/code-lists/ansi.html\n",
    "# NY codes: https://www2.census.gov/geo/docs/reference/codes/files/st36_ny_cou.txt\n",
    "\n",
    "df_stack = df_stack[df_stack['county'].isin(['061', # Manhattan\n",
    "                                             '081', # Queens\n",
    "                                             '047', # Brooklyn (Kings)\n",
    "                                             '005', # Bronx\n",
    "                                             '085' # Staten Island (Richmond County)\n",
    "                                            ])]\n",
    "\n",
    "df_stack.shape"
   ]
  },
  {
   "cell_type": "code",
   "execution_count": 16,
   "id": "ed642b67",
   "metadata": {},
   "outputs": [],
   "source": [
    "# create variable for county ID          \n",
    "df_stack.loc[df_stack['county'].str.contains('061'), 'borough'] = 'Manhattan'\n",
    "df_stack.loc[df_stack['county'].str.contains('081'), 'borough'] = 'Queens'\n",
    "df_stack.loc[df_stack['county'].str.contains('047'), 'borough'] = 'Brooklyn'\n",
    "df_stack.loc[df_stack['county'].str.contains('005'), 'borough'] = 'Bronx'\n",
    "df_stack.loc[df_stack['county'].str.contains('085'), 'borough'] = 'Staten Island'  "
   ]
  },
  {
   "cell_type": "code",
   "execution_count": 17,
   "id": "7f03945a",
   "metadata": {},
   "outputs": [
    {
     "data": {
      "text/html": [
       "<div>\n",
       "<style scoped>\n",
       "    .dataframe tbody tr th:only-of-type {\n",
       "        vertical-align: middle;\n",
       "    }\n",
       "\n",
       "    .dataframe tbody tr th {\n",
       "        vertical-align: top;\n",
       "    }\n",
       "\n",
       "    .dataframe thead th {\n",
       "        text-align: right;\n",
       "    }\n",
       "</style>\n",
       "<table border=\"1\" class=\"dataframe\">\n",
       "  <thead>\n",
       "    <tr style=\"text-align: right;\">\n",
       "      <th>year</th>\n",
       "      <th>county</th>\n",
       "      <th>borough</th>\n",
       "      <th>2005</th>\n",
       "      <th>2010</th>\n",
       "      <th>2015</th>\n",
       "      <th>2019</th>\n",
       "    </tr>\n",
       "  </thead>\n",
       "  <tbody>\n",
       "    <tr>\n",
       "      <th>0</th>\n",
       "      <td>005</td>\n",
       "      <td>Bronx</td>\n",
       "      <td>1309640</td>\n",
       "      <td>1386657</td>\n",
       "      <td>1455444</td>\n",
       "      <td>1418207</td>\n",
       "    </tr>\n",
       "    <tr>\n",
       "      <th>1</th>\n",
       "      <td>047</td>\n",
       "      <td>Brooklyn</td>\n",
       "      <td>2446016</td>\n",
       "      <td>2508340</td>\n",
       "      <td>2636735</td>\n",
       "      <td>2559903</td>\n",
       "    </tr>\n",
       "    <tr>\n",
       "      <th>2</th>\n",
       "      <td>061</td>\n",
       "      <td>Manhattan</td>\n",
       "      <td>1529774</td>\n",
       "      <td>1586698</td>\n",
       "      <td>1644518</td>\n",
       "      <td>1628706</td>\n",
       "    </tr>\n",
       "    <tr>\n",
       "      <th>3</th>\n",
       "      <td>081</td>\n",
       "      <td>Queens</td>\n",
       "      <td>2215339</td>\n",
       "      <td>2233841</td>\n",
       "      <td>2339150</td>\n",
       "      <td>2253858</td>\n",
       "    </tr>\n",
       "    <tr>\n",
       "      <th>4</th>\n",
       "      <td>085</td>\n",
       "      <td>Staten Island</td>\n",
       "      <td>455344</td>\n",
       "      <td>469363</td>\n",
       "      <td>474558</td>\n",
       "      <td>476143</td>\n",
       "    </tr>\n",
       "  </tbody>\n",
       "</table>\n",
       "</div>"
      ],
      "text/plain": [
       "year county        borough     2005     2010     2015     2019\n",
       "0       005          Bronx  1309640  1386657  1455444  1418207\n",
       "1       047       Brooklyn  2446016  2508340  2636735  2559903\n",
       "2       061      Manhattan  1529774  1586698  1644518  1628706\n",
       "3       081         Queens  2215339  2233841  2339150  2253858\n",
       "4       085  Staten Island   455344   469363   474558   476143"
      ]
     },
     "execution_count": 17,
     "metadata": {},
     "output_type": "execute_result"
    }
   ],
   "source": [
    "# reshape wide to long\n",
    "df_pop = df_stack.pivot(index=['county', 'borough'], columns='year', values='population').reset_index()\n",
    "df_pop.head()"
   ]
  },
  {
   "cell_type": "code",
   "execution_count": 18,
   "id": "9c71f2bf",
   "metadata": {},
   "outputs": [
    {
     "data": {
      "text/html": [
       "<div>\n",
       "<style scoped>\n",
       "    .dataframe tbody tr th:only-of-type {\n",
       "        vertical-align: middle;\n",
       "    }\n",
       "\n",
       "    .dataframe tbody tr th {\n",
       "        vertical-align: top;\n",
       "    }\n",
       "\n",
       "    .dataframe thead th {\n",
       "        text-align: right;\n",
       "    }\n",
       "</style>\n",
       "<table border=\"1\" class=\"dataframe\">\n",
       "  <thead>\n",
       "    <tr style=\"text-align: right;\">\n",
       "      <th>year</th>\n",
       "      <th>county</th>\n",
       "      <th>borough</th>\n",
       "      <th>2005</th>\n",
       "      <th>2010</th>\n",
       "      <th>2015</th>\n",
       "      <th>2019</th>\n",
       "      <th>difference</th>\n",
       "      <th>percent_change</th>\n",
       "    </tr>\n",
       "  </thead>\n",
       "  <tbody>\n",
       "    <tr>\n",
       "      <th>0</th>\n",
       "      <td>005</td>\n",
       "      <td>Bronx</td>\n",
       "      <td>1309640</td>\n",
       "      <td>1386657</td>\n",
       "      <td>1455444</td>\n",
       "      <td>1418207</td>\n",
       "      <td>108567</td>\n",
       "      <td>8.289835</td>\n",
       "    </tr>\n",
       "    <tr>\n",
       "      <th>1</th>\n",
       "      <td>047</td>\n",
       "      <td>Brooklyn</td>\n",
       "      <td>2446016</td>\n",
       "      <td>2508340</td>\n",
       "      <td>2636735</td>\n",
       "      <td>2559903</td>\n",
       "      <td>113887</td>\n",
       "      <td>4.656020</td>\n",
       "    </tr>\n",
       "    <tr>\n",
       "      <th>2</th>\n",
       "      <td>061</td>\n",
       "      <td>Manhattan</td>\n",
       "      <td>1529774</td>\n",
       "      <td>1586698</td>\n",
       "      <td>1644518</td>\n",
       "      <td>1628706</td>\n",
       "      <td>98932</td>\n",
       "      <td>6.467099</td>\n",
       "    </tr>\n",
       "    <tr>\n",
       "      <th>3</th>\n",
       "      <td>081</td>\n",
       "      <td>Queens</td>\n",
       "      <td>2215339</td>\n",
       "      <td>2233841</td>\n",
       "      <td>2339150</td>\n",
       "      <td>2253858</td>\n",
       "      <td>38519</td>\n",
       "      <td>1.738741</td>\n",
       "    </tr>\n",
       "    <tr>\n",
       "      <th>4</th>\n",
       "      <td>085</td>\n",
       "      <td>Staten Island</td>\n",
       "      <td>455344</td>\n",
       "      <td>469363</td>\n",
       "      <td>474558</td>\n",
       "      <td>476143</td>\n",
       "      <td>20799</td>\n",
       "      <td>4.567755</td>\n",
       "    </tr>\n",
       "  </tbody>\n",
       "</table>\n",
       "</div>"
      ],
      "text/plain": [
       "year county        borough     2005     2010     2015     2019  difference  \\\n",
       "0       005          Bronx  1309640  1386657  1455444  1418207      108567   \n",
       "1       047       Brooklyn  2446016  2508340  2636735  2559903      113887   \n",
       "2       061      Manhattan  1529774  1586698  1644518  1628706       98932   \n",
       "3       081         Queens  2215339  2233841  2339150  2253858       38519   \n",
       "4       085  Staten Island   455344   469363   474558   476143       20799   \n",
       "\n",
       "year  percent_change  \n",
       "0           8.289835  \n",
       "1           4.656020  \n",
       "2           6.467099  \n",
       "3           1.738741  \n",
       "4           4.567755  "
      ]
     },
     "execution_count": 18,
     "metadata": {},
     "output_type": "execute_result"
    }
   ],
   "source": [
    "# make difference variable\n",
    "df_pop['difference'] = df_pop['2019'] - df_pop['2005']\n",
    "\n",
    "# make percent change variable\n",
    "df_pop['percent_change'] = ((df_pop['2019']-df_pop['2005'])/df_pop['2005'])*100\n",
    "\n",
    "df_pop.head()"
   ]
  },
  {
   "cell_type": "code",
   "execution_count": 19,
   "id": "db95f442",
   "metadata": {},
   "outputs": [],
   "source": [
    "df_pop.to_csv('data/population-over-time.csv', index=False)"
   ]
  }
 ],
 "metadata": {
  "kernelspec": {
   "display_name": "Python 3 (ipykernel)",
   "language": "python",
   "name": "python3"
  },
  "language_info": {
   "codemirror_mode": {
    "name": "ipython",
    "version": 3
   },
   "file_extension": ".py",
   "mimetype": "text/x-python",
   "name": "python",
   "nbconvert_exporter": "python",
   "pygments_lexer": "ipython3",
   "version": "3.9.7"
  }
 },
 "nbformat": 4,
 "nbformat_minor": 5
}
